{
 "cells": [
  {
   "cell_type": "code",
   "execution_count": 12,
   "metadata": {},
   "outputs": [],
   "source": [
    "import pandas as pd\n",
    "import numpy as np\n",
    "import matplotlib.pyplot as plt\n",
    "from test_ppo_model import read_results_in, read_results_out"
   ]
  },
  {
   "cell_type": "code",
   "execution_count": 25,
   "metadata": {},
   "outputs": [],
   "source": [
    "check_points = np.arange(0, 201, 5)\n",
    "model_param = \"2009_L5e-05-T1024-B64-N8-E0.002-b0.1_SL3\"[:-4]\n",
    "year = int(model_param[:4])\n",
    "model_param = model_param[5:]\n",
    "stop_loss = 3\n",
    "\n",
    "in_returns, in_trades = read_results_in(year, model_param, check_points, SL=stop_loss)\n",
    "out_returns, out_trades = read_results_out(year, model_param, check_points, SL=stop_loss)"
   ]
  },
  {
   "cell_type": "code",
   "execution_count": 26,
   "metadata": {},
   "outputs": [],
   "source": [
    "out_pairs = pd.read_csv(\n",
    "        \"pairs/{}-01-01_{}-12-31.csv\".format(year + 1, year + 1), index_col=0\n",
    "    )\n",
    "out_pairs['Return'] = out_returns[:, -1]\n",
    "out_pairs['Trades'] = out_trades[:, -1]"
   ]
  },
  {
   "cell_type": "code",
   "execution_count": 27,
   "metadata": {},
   "outputs": [
    {
     "name": "stdout",
     "output_type": "stream",
     "text": [
      "       Stock1    Stock2     Return  Trades\n",
      "1    KINVb.ST   SHBa.ST  -15.30135       1\n",
      "2    NDA1V.HE  SAMAS.HE   -4.69626       1\n",
      "3     SKAb.ST  INVEb.ST   -4.33903       2\n",
      "4    MEO1V.HE  WRT1V.HE   14.84651       5\n",
      "5    INVEb.ST   SHBa.ST   -4.85261       1\n",
      "6    SECUb.ST   SKAb.ST    8.26074       5\n",
      "7    CGCBV.HE  MEO1V.HE    9.64729      10\n",
      "8      ABB.ST   SKAb.ST    8.25775      10\n",
      "9    KINVb.ST    NDA.ST  -13.07812       4\n",
      "10   INVEb.ST    NDA.ST   -1.67733       3\n",
      "11   KCR1V.HE  WRT1V.HE   72.23305      17\n",
      "12   KNEBV.HE  KCR1V.HE   -8.75925       1\n",
      "13  DANSKE.CO    NDA.CO   -9.68279       1\n",
      "14  DANSKE.CO   JYSK.CO   -9.96856       1\n",
      "15   KNEBV.HE  WRT1V.HE   -6.27143       2\n",
      "16     ABB.ST  SECUb.ST   -9.51253       4\n",
      "17    SAND.ST   SKFb.ST   -0.90983       4\n",
      "18   INVEb.ST  KINVb.ST   28.91917       8\n",
      "19     NDA.ST   SHBa.ST   12.47527      10\n",
      "20   SECUb.ST  INVEb.ST  -12.72901       2\n",
      "21     ABB.ST  INVEb.ST   20.02550       5\n",
      "22    SAND.ST  VOLVb.ST   16.62624       3\n",
      "23   OTE1V.HE  WRT1V.HE   -1.90684       3\n",
      "24    JYSK.CO    NDA.CO  177.84193      20\n",
      "25   KCR1V.HE  MEO1V.HE    4.96127       5\n",
      "26   ELUXb.ST  ERICb.ST   -4.91284       2\n"
     ]
    }
   ],
   "source": [
    "print(out_pairs[['Stock1','Stock2','Return', 'Trades']])"
   ]
  },
  {
   "cell_type": "code",
   "execution_count": 29,
   "metadata": {},
   "outputs": [
    {
     "name": "stdout",
     "output_type": "stream",
     "text": [
      "Mean Return: 10.21%\n",
      "Mean Trades: 5.00\n"
     ]
    }
   ],
   "source": [
    "print(\"Mean Return: {:.2f}%\".format(out_pairs.Return.mean()))\n",
    "print(\"Mean Trades: {:.2f}\".format(out_pairs.Trades.mean()))"
   ]
  },
  {
   "cell_type": "code",
   "execution_count": 45,
   "metadata": {},
   "outputs": [
    {
     "data": {
      "text/plain": [
       "11.286978461538459"
      ]
     },
     "execution_count": 45,
     "metadata": {},
     "output_type": "execute_result"
    }
   ],
   "source": [
    "out_pairs.Return.mean()"
   ]
  },
  {
   "cell_type": "code",
   "execution_count": 20,
   "metadata": {},
   "outputs": [],
   "source": [
    "ric1, ric2 = \"ELUXb.ST\", \"ERICb.ST\"\n",
    "spread = pd.read_csv(\"data/spread_t_{}_{}_30min_{}-01-01_{}-12-31.csv\".format(ric1, ric2, year+2, year+2))"
   ]
  },
  {
   "cell_type": "code",
   "execution_count": 25,
   "metadata": {},
   "outputs": [
    {
     "data": {
      "text/html": [
       "<div>\n",
       "<style scoped>\n",
       "    .dataframe tbody tr th:only-of-type {\n",
       "        vertical-align: middle;\n",
       "    }\n",
       "\n",
       "    .dataframe tbody tr th {\n",
       "        vertical-align: top;\n",
       "    }\n",
       "\n",
       "    .dataframe thead th {\n",
       "        text-align: right;\n",
       "    }\n",
       "</style>\n",
       "<table border=\"1\" class=\"dataframe\">\n",
       "  <thead>\n",
       "    <tr style=\"text-align: right;\">\n",
       "      <th></th>\n",
       "      <th>Datetime</th>\n",
       "      <th>Spread</th>\n",
       "    </tr>\n",
       "  </thead>\n",
       "  <tbody>\n",
       "    <tr>\n",
       "      <th>2131</th>\n",
       "      <td>2011-07-18 16:30:00</td>\n",
       "      <td>-4.052595</td>\n",
       "    </tr>\n",
       "    <tr>\n",
       "      <th>2132</th>\n",
       "      <td>2011-07-18 17:00:00</td>\n",
       "      <td>-4.123614</td>\n",
       "    </tr>\n",
       "    <tr>\n",
       "      <th>2133</th>\n",
       "      <td>2011-07-19 09:30:00</td>\n",
       "      <td>-5.654059</td>\n",
       "    </tr>\n",
       "    <tr>\n",
       "      <th>2134</th>\n",
       "      <td>2011-07-19 10:00:00</td>\n",
       "      <td>-5.948220</td>\n",
       "    </tr>\n",
       "  </tbody>\n",
       "</table>\n",
       "</div>"
      ],
      "text/plain": [
       "                 Datetime    Spread\n",
       "2131  2011-07-18 16:30:00 -4.052595\n",
       "2132  2011-07-18 17:00:00 -4.123614\n",
       "2133  2011-07-19 09:30:00 -5.654059\n",
       "2134  2011-07-19 10:00:00 -5.948220"
      ]
     },
     "execution_count": 25,
     "metadata": {},
     "output_type": "execute_result"
    }
   ],
   "source": [
    "spread.iloc[2131: 2135]"
   ]
  },
  {
   "cell_type": "code",
   "execution_count": null,
   "metadata": {},
   "outputs": [],
   "source": []
  }
 ],
 "metadata": {
  "interpreter": {
   "hash": "3446c80e5897215f72eca4c50552728cb08caa8ea42cf8daacbed49fa6d006b9"
  },
  "kernelspec": {
   "display_name": "Python 3.8.12 ('rlbook')",
   "language": "python",
   "name": "python3"
  },
  "language_info": {
   "codemirror_mode": {
    "name": "ipython",
    "version": 3
   },
   "file_extension": ".py",
   "mimetype": "text/x-python",
   "name": "python",
   "nbconvert_exporter": "python",
   "pygments_lexer": "ipython3",
   "version": "3.8.12"
  },
  "orig_nbformat": 4
 },
 "nbformat": 4,
 "nbformat_minor": 2
}
